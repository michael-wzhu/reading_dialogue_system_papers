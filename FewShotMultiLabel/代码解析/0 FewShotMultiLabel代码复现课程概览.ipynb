{
 "cells": [
  {
   "cell_type": "markdown",
   "metadata": {},
   "source": [
    "# FewShotMultiLabel\n",
    "### 授课老师：Michael\n",
    "&nbsp; \n"
   ]
  },
  {
   "cell_type": "markdown",
   "metadata": {},
   "source": [
    "# 1 前言"
   ]
  },
  {
   "cell_type": "markdown",
   "metadata": {},
   "source": [
    "\n",
    "## 1.1 模型架构\n",
    "\n",
    "<img src=\"./framework.png\"  width=\"700\" height=\"700\" align=\"bottom\" />"
   ]
  },
  {
   "cell_type": "markdown",
   "metadata": {},
   "source": [
    "## 1.2 本课知识树\n",
    "\n",
    "<img src=\"./知识树.png\"  width=\"600\" height=\"500\" align=\"bottom\" />\n"
   ]
  },
  {
   "cell_type": "markdown",
   "metadata": {},
   "source": [
    "## 1.3 深度学习项目代码结构\n",
    "\n",
    "<img src=\"./深度学习项目.png\"  width=\"500\" height=\"500\" align=\"bottom\" />"
   ]
  },
  {
   "cell_type": "markdown",
   "metadata": {},
   "source": [
    "# 2 准备工作\n",
    "## 2.1项目环境配置\n",
    "\n",
    "* linux环境\n",
    "* JAVA环境\n",
    "* stanford-tagger-4.2.0 (JAVA包)\n",
    "\n",
    "下载地址：\n",
    "链接：https://pan.baidu.com/s/1gf-DNSsdrvyQ-95nry1r7w\n",
    "提取码：wgml\n",
    "（同学们也可以在 stanford nlp 官网下载）\n",
    "\n",
    "* python >= 3.6\n",
    "* pytorch >= 1.5.0\n",
    "* transformers >= 2.8.0\n",
    "* allennlp >= 0.8.2\n",
    "* tqdm >= 4.33.0\n",
    "\n",
    "代码运行环境建议使用Pycharm."
   ]
  },
  {
   "cell_type": "markdown",
   "metadata": {},
   "source": [
    "\n",
    "## 2.2 数据集下载\n",
    "  \n",
    "  FewShotMultiLabel 项目中自带数据集，同时我们课程也会提供给大家。\n",
    "  "
   ]
  },
  {
   "cell_type": "markdown",
   "metadata": {},
   "source": [
    "# 3 项目代码结构（pycharm中演示）\n",
    "\n",
    "<img src=\"./代码结构.PNG\"  width=\"400\" height=\"400\" align=\"left\" />\n",
    "\n"
   ]
  },
  {
   "cell_type": "markdown",
   "metadata": {},
   "source": [
    "### 3.1 utils/loader.py\n",
    "    \n",
    "    数据读取和预处理模块\n",
    "\n",
    "### 3.2 models/module.py\n",
    "    \n",
    "    FewShotMultiLabel 模型构建\n",
    "\n",
    "\n",
    "### 3.3 utils/process.py\n",
    "    \n",
    "    训练评估流程\n",
    "\n",
    "\n",
    "### 3.4 train.py\n",
    "    \n",
    "    运行接口\n",
    "\n",
    "&nbsp; \n",
    "\n",
    "\n",
    "./scripts/run_b_stanford_1_main.sh 0"
   ]
  },
  {
   "cell_type": "markdown",
   "metadata": {},
   "source": [
    "## 源代码勘误\n",
    "\n",
    "1. line 89 of utils/data_loader.py: \n",
    "\n",
    "```bash\n",
    "\n",
    "# for batch_id, batch in enumerate(domain):\n",
    "for batch_id, batch in enumerate(domain[0]):\n",
    "\n",
    "```\n",
    "\n",
    "\n",
    "2. line 25 of scripts/run_b_stanford_1_main.sh: \n",
    "\n",
    "```bash\n",
    "\n",
    "# dataset_lst=($2 $3)\n",
    "dataset_lst=(stanford)\n",
    "\n",
    "```"
   ]
  },
  {
   "cell_type": "markdown",
   "metadata": {},
   "source": [
    "# 4 作业\n",
    "  \n",
    "　　作业的目的在于帮助学员们进一步巩固和理解论文\n",
    "  \n",
    "作业大致分为这五个子任务：\n",
    "  \n",
    "`【思考题】`KR部分，句子还有什么特征可以挖掘？\n",
    "\n",
    "`【算法推导】`距离的度量是否可以优化？\n",
    "\n",
    "`【代码实践】`将你在\"思考题\"中的想法用代码实现；\n",
    "\n",
    "`【画图】`将你\"算法推导\"中的想法的画出来；\n",
    "\n",
    "`【总结】`对学过的内容进行自行总结，形成思维导图，以及思考是否可以对训练过程有更多优化；\n",
    "\n",
    "\n",
    "---"
   ]
  },
  {
   "cell_type": "code",
   "execution_count": null,
   "metadata": {},
   "outputs": [],
   "source": []
  }
 ],
 "metadata": {
  "colab": {
   "authorship_tag": "ABX9TyMaJPtlMHur6DonwEyZLw5h",
   "collapsed_sections": [],
   "name": "data process and load.ipynb",
   "provenance": []
  },
  "kernelspec": {
   "display_name": "Python 3",
   "language": "python",
   "name": "python3"
  },
  "language_info": {
   "codemirror_mode": {
    "name": "ipython",
    "version": 3
   },
   "file_extension": ".py",
   "mimetype": "text/x-python",
   "name": "python",
   "nbconvert_exporter": "python",
   "pygments_lexer": "ipython3",
   "version": "3.8.8"
  }
 },
 "nbformat": 4,
 "nbformat_minor": 1
}