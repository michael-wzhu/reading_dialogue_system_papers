{
 "cells": [
  {
   "cell_type": "markdown",
   "metadata": {},
   "source": [
    "# AGIF\n",
    "### 授课老师：Michael\n",
    "&nbsp; \n"
   ]
  },
  {
   "cell_type": "markdown",
   "metadata": {},
   "source": [
    "# 1 前言"
   ]
  },
  {
   "cell_type": "markdown",
   "metadata": {},
   "source": [
    "\n",
    "## 1.1 模型架构\n",
    "\n",
    "<img src=\"./framework.png\"  width=\"700\" height=\"700\" align=\"bottom\" />"
   ]
  },
  {
   "cell_type": "markdown",
   "metadata": {},
   "source": [
    "## 1.2 本课知识树\n",
    "\n",
    "<img src=\"./知识树.PNG\"  width=\"600\" height=\"500\" align=\"bottom\" />\n"
   ]
  },
  {
   "cell_type": "markdown",
   "metadata": {},
   "source": [
    "## 1.3 深度学习项目代码结构\n",
    "\n",
    "<img src=\"./深度学习项目.png\"  width=\"500\" height=\"500\" align=\"bottom\" />"
   ]
  },
  {
   "cell_type": "markdown",
   "metadata": {},
   "source": [
    "# 2 准备工作\n",
    "## 2.1项目环境配置\n",
    "\n",
    "* linux环境\n",
    "\n",
    "* Python3.7\n",
    "* jupyter notebook\n",
    "* torch==1.9.0+cu111\n",
    "* transformers==4.2.1\n",
    "\n",
    "* seqeval==0.0.12\n",
    "* pytorch-crf==0.7.2\n",
    "\n",
    "代码运行环境建议使用Pycharm."
   ]
  },
  {
   "cell_type": "markdown",
   "metadata": {},
   "source": [
    "\n",
    "## 2.2 数据集下载\n",
    "  \n",
    "  AGIF 项目中自带数据集，同时我们课程也会提供给大家。\n",
    "  "
   ]
  },
  {
   "cell_type": "markdown",
   "metadata": {},
   "source": [
    "# 3 项目代码结构（pycharm中演示）\n",
    "\n",
    "<img src=\"./代码结构.PNG\"  width=\"400\" height=\"400\" align=\"left\" />\n",
    "\n"
   ]
  },
  {
   "cell_type": "markdown",
   "metadata": {},
   "source": [
    "### 3.1 utils/loader.py\n",
    "    \n",
    "    数据读取和预处理模块\n",
    "\n",
    "### 3.2 models/module.py\n",
    "    \n",
    "    AGIF模型构建\n",
    "\n",
    "\n",
    "### 3.3 utils/process.py\n",
    "    \n",
    "    训练评估流程\n",
    "\n",
    "\n",
    "### 3.4 train.py\n",
    "    \n",
    "    运行接口\n",
    "\n",
    "&nbsp; \n",
    "\n",
    "\n",
    "python train.py -g -bs=16 -ne=100 -dd=./data/MixATIS -lod=./log/MixATIS -sd=./save/MixATIS -nh=4 -wed=32 -sed=128 -ied=64 -sdhd=64 -dghd=64 -ln=MixATIS.txt"
   ]
  },
  {
   "cell_type": "markdown",
   "metadata": {},
   "source": [
    "# 4 作业\n",
    "  \n",
    "　　作业的目的在于帮助学员们进一步巩固和理解论文\n",
    "  \n",
    "作业大致分为这五个子任务：\n",
    "  \n",
    "`【思考题】`如何为模型提供更好的意图表征？\n",
    "\n",
    "`【算法推导】`再次推导GAT的公式；\n",
    "\n",
    "`【代码实践】`将你在\"思考题\"中的想法用代码实现；\n",
    "\n",
    "`【画图】`将你\"思考题\"中的想法的架构图画出；\n",
    "\n",
    "`【总结】`对学过的内容进行自行总结，形成思维导图，以及思考是否可以对训练过程有更多优化；\n",
    "\n",
    "\n",
    "---"
   ]
  },
  {
   "cell_type": "code",
   "execution_count": null,
   "metadata": {},
   "outputs": [],
   "source": []
  }
 ],
 "metadata": {
  "colab": {
   "authorship_tag": "ABX9TyMaJPtlMHur6DonwEyZLw5h",
   "collapsed_sections": [],
   "name": "data process and load.ipynb",
   "provenance": []
  },
  "kernelspec": {
   "display_name": "Python 3",
   "language": "python",
   "name": "python3"
  },
  "language_info": {
   "codemirror_mode": {
    "name": "ipython",
    "version": 3
   },
   "file_extension": ".py",
   "mimetype": "text/x-python",
   "name": "python",
   "nbconvert_exporter": "python",
   "pygments_lexer": "ipython3",
   "version": "3.8.8"
  }
 },
 "nbformat": 4,
 "nbformat_minor": 1
}
