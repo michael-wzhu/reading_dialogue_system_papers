{
 "cells": [
  {
   "cell_type": "markdown",
   "metadata": {},
   "source": [
    "# BERT for Joint Intent Classification and Slot Filling\n",
    "### 授课老师：Michael\n",
    "&nbsp; \n"
   ]
  },
  {
   "cell_type": "markdown",
   "metadata": {},
   "source": [
    "# 1 前言\n",
    "## 1.1课程回顾\n",
    "\n",
    "<img src=\"./imgs/JointBERT.png\"  width=\"700\" height=\"700\" align=\"bottom\" />"
   ]
  },
  {
   "cell_type": "markdown",
   "metadata": {},
   "source": [
    "## 1.2 本课知识树\n",
    "\n",
    "<img src=\"./imgs/项目结构.PNG\"  width=\"300\" height=\"500\" align=\"left\" />\n",
    "<img src=\"./imgs/JointBERT项目.png\"  width=\"600\" height=\"400\" align=\"right\" />"
   ]
  },
  {
   "cell_type": "markdown",
   "metadata": {},
   "source": [
    "# 2 准备工作\n",
    "## 2.1项目环境配置\n",
    "\n",
    "* Python3.7\n",
    "* jupyter notebook\n",
    "* torch==1.6.0\n",
    "* transformers==3.0.2\n",
    "* seqeval==0.0.12\n",
    "* pytorch-crf==0.7.2\n",
    "\n",
    "代码运行环境建议使用Pycharm."
   ]
  },
  {
   "cell_type": "markdown",
   "metadata": {},
   "source": [
    "\n",
    "## 2.2 数据集下载\n",
    "  \n",
    "  JointBERT pytorch 项目中自带数据集，同时我们课程也会提供给大家。\n",
    "  "
   ]
  },
  {
   "cell_type": "markdown",
   "metadata": {},
   "source": [
    "# 3 项目代码结构（pycharm中演示）\n",
    "\n",
    "这部分内容，主要是在pycharm中演示;\n",
    "我把关键的文件，在这里列一下，让学员很直观的能看到\n",
    "\n",
    "## 3.1 data_loader.py\n",
    "    \n",
    "    数据读取和预处理模块\n",
    "\n",
    "## 3.2 model/modeling_jointbert.py\n",
    "    \n",
    "    jointbert的模型构建\n",
    "\n",
    "\n",
    "## 3.3 trainer.py\n",
    "    \n",
    "    训练流程\n",
    "\n",
    "\n",
    "## 3.4 predict.py\n",
    "    \n",
    "    模型评估流程\n",
    "\n",
    "&nbsp; \n",
    "\n",
    "\n",
    "python JointBERT/main.py --task atis --model_type bert --model_dir experiments/jointbert_0 --do_train --do_eval --train_batch_size 2"
   ]
  },
  {
   "cell_type": "markdown",
   "metadata": {},
   "source": [
    "# 4 算法模块及细节（jupyter和pycharm中演示）\n",
    "本项目的核心内容,例如：\n",
    "\n",
    "## 4.1 JointBERT 数据处理\n",
    "\n",
    "* 1 data process and load.ipynb\n",
    "\n",
    "## 4.2 JointBERT 模型构建\n",
    "\n",
    "* 2 model and loss function.ipynb\n",
    "\n",
    "## 4.3 JointBERT 模型训练与评估\n",
    "\n",
    "* 3 train and evaluate.ipynb\n",
    "\n",
    "## 4.4 JointBERT 参数设置与模型运行\n",
    "\n",
    "* 4 主程序和参数设置.ipynb\n",
    "  \n",
    "&nbsp;  \n",
    "  \n"
   ]
  },
  {
   "cell_type": "markdown",
   "metadata": {},
   "source": [
    "# 5 代码梳理及细节回顾(在pycharm中演示)\n",
    "\n",
    "　　这里回顾一下这个项目工程的训练流程；"
   ]
  },
  {
   "cell_type": "markdown",
   "metadata": {},
   "source": [
    "# 6 作业\n",
    "  \n",
    "　　作业的目的在于帮助学员们进一步巩固和理解论文\n",
    "  \n",
    "作业大致分为这五个子任务：\n",
    "  \n",
    "`【思考题】`在保持整个模型可以端到端训练的条件下，意图识别分类结果可以如何用来加强槽填充任务\n",
    "\n",
    "`【算法推导】`再推导一下维特比解码的过程\n",
    "\n",
    "`【代码实践】`实现一下采用意图识别分类结果来加强槽填充任务的某种方法\n",
    "\n",
    "`【画图】`将你的“意图识别分类结果来加强槽填充任务”的联合学习模型的架构图画出\n",
    "\n",
    "`【总结】`对学过的内容进行自行总结，形成思维导图，以及思考是否可以对训练过程有更多优化；\n",
    "\n",
    "\n",
    "---"
   ]
  },
  {
   "cell_type": "code",
   "execution_count": null,
   "metadata": {},
   "outputs": [],
   "source": []
  }
 ],
 "metadata": {
  "colab": {
   "authorship_tag": "ABX9TyMaJPtlMHur6DonwEyZLw5h",
   "collapsed_sections": [],
   "name": "data process and load.ipynb",
   "provenance": []
  },
  "kernelspec": {
   "display_name": "Python 3",
   "language": "python",
   "name": "python3"
  },
  "language_info": {
   "codemirror_mode": {
    "name": "ipython",
    "version": 3
   },
   "file_extension": ".py",
   "mimetype": "text/x-python",
   "name": "python",
   "nbconvert_exporter": "python",
   "pygments_lexer": "ipython3",
   "version": "3.8.8"
  }
 },
 "nbformat": 4,
 "nbformat_minor": 1
}
